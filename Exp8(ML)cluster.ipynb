{
  "nbformat": 4,
  "nbformat_minor": 0,
  "metadata": {
    "colab": {
      "provenance": []
    },
    "kernelspec": {
      "name": "python3",
      "display_name": "Python 3"
    },
    "language_info": {
      "name": "python"
    }
  },
  "cells": [
    {
      "cell_type": "code",
      "execution_count": null,
      "metadata": {
        "id": "pU39rMJseXCP"
      },
      "outputs": [],
      "source": [
        "import numpy as np\n",
        "import pandas as pd\n",
        "import matplotlib.pyplot as plt\n",
        "import seaborn as sns"
      ]
    },
    {
      "cell_type": "code",
      "source": [
        "from sklearn.preprocessing import StandardScaler\n",
        "from sklearn.cluster import KMeans\n",
        "from sklearn.model_selection import train_test_split\n",
        "from sklearn.metrics import silhouette_score"
      ],
      "metadata": {
        "id": "j2tbamrQeYoY"
      },
      "execution_count": null,
      "outputs": []
    },
    {
      "cell_type": "code",
      "source": [
        "df=pd.read_csv(\"/content/Simple RFM Customer Segmentation - K Means Practice.csv\")"
      ],
      "metadata": {
        "id": "w0sCk04VeYqf"
      },
      "execution_count": null,
      "outputs": []
    },
    {
      "cell_type": "code",
      "source": [
        "df.head()"
      ],
      "metadata": {
        "colab": {
          "base_uri": "https://localhost:8080/",
          "height": 206
        },
        "id": "YkTDPn8teYsk",
        "outputId": "92e2936b-e4b9-40bc-fcee-71373e9bbd8b"
      },
      "execution_count": null,
      "outputs": [
        {
          "output_type": "execute_result",
          "data": {
            "text/plain": [
              "   customer_id  monetary_purchase_amt  frequency_purchase  recency_of_purchase\n",
              "0            1               3.097321           18.795885            15.108402\n",
              "1            2               8.759256           21.893389            13.801586\n",
              "2            3              16.634326            4.270323            23.046506\n",
              "3            4              10.934102           22.335917            15.445987\n",
              "4            5              13.832831           22.255416            16.896821"
            ],
            "text/html": [
              "\n",
              "  <div id=\"df-6931ac4c-7368-4c04-b8ae-d21f0de4dd6d\" class=\"colab-df-container\">\n",
              "    <div>\n",
              "<style scoped>\n",
              "    .dataframe tbody tr th:only-of-type {\n",
              "        vertical-align: middle;\n",
              "    }\n",
              "\n",
              "    .dataframe tbody tr th {\n",
              "        vertical-align: top;\n",
              "    }\n",
              "\n",
              "    .dataframe thead th {\n",
              "        text-align: right;\n",
              "    }\n",
              "</style>\n",
              "<table border=\"1\" class=\"dataframe\">\n",
              "  <thead>\n",
              "    <tr style=\"text-align: right;\">\n",
              "      <th></th>\n",
              "      <th>customer_id</th>\n",
              "      <th>monetary_purchase_amt</th>\n",
              "      <th>frequency_purchase</th>\n",
              "      <th>recency_of_purchase</th>\n",
              "    </tr>\n",
              "  </thead>\n",
              "  <tbody>\n",
              "    <tr>\n",
              "      <th>0</th>\n",
              "      <td>1</td>\n",
              "      <td>3.097321</td>\n",
              "      <td>18.795885</td>\n",
              "      <td>15.108402</td>\n",
              "    </tr>\n",
              "    <tr>\n",
              "      <th>1</th>\n",
              "      <td>2</td>\n",
              "      <td>8.759256</td>\n",
              "      <td>21.893389</td>\n",
              "      <td>13.801586</td>\n",
              "    </tr>\n",
              "    <tr>\n",
              "      <th>2</th>\n",
              "      <td>3</td>\n",
              "      <td>16.634326</td>\n",
              "      <td>4.270323</td>\n",
              "      <td>23.046506</td>\n",
              "    </tr>\n",
              "    <tr>\n",
              "      <th>3</th>\n",
              "      <td>4</td>\n",
              "      <td>10.934102</td>\n",
              "      <td>22.335917</td>\n",
              "      <td>15.445987</td>\n",
              "    </tr>\n",
              "    <tr>\n",
              "      <th>4</th>\n",
              "      <td>5</td>\n",
              "      <td>13.832831</td>\n",
              "      <td>22.255416</td>\n",
              "      <td>16.896821</td>\n",
              "    </tr>\n",
              "  </tbody>\n",
              "</table>\n",
              "</div>\n",
              "    <div class=\"colab-df-buttons\">\n",
              "\n",
              "  <div class=\"colab-df-container\">\n",
              "    <button class=\"colab-df-convert\" onclick=\"convertToInteractive('df-6931ac4c-7368-4c04-b8ae-d21f0de4dd6d')\"\n",
              "            title=\"Convert this dataframe to an interactive table.\"\n",
              "            style=\"display:none;\">\n",
              "\n",
              "  <svg xmlns=\"http://www.w3.org/2000/svg\" height=\"24px\" viewBox=\"0 -960 960 960\">\n",
              "    <path d=\"M120-120v-720h720v720H120Zm60-500h600v-160H180v160Zm220 220h160v-160H400v160Zm0 220h160v-160H400v160ZM180-400h160v-160H180v160Zm440 0h160v-160H620v160ZM180-180h160v-160H180v160Zm440 0h160v-160H620v160Z\"/>\n",
              "  </svg>\n",
              "    </button>\n",
              "\n",
              "  <style>\n",
              "    .colab-df-container {\n",
              "      display:flex;\n",
              "      gap: 12px;\n",
              "    }\n",
              "\n",
              "    .colab-df-convert {\n",
              "      background-color: #E8F0FE;\n",
              "      border: none;\n",
              "      border-radius: 50%;\n",
              "      cursor: pointer;\n",
              "      display: none;\n",
              "      fill: #1967D2;\n",
              "      height: 32px;\n",
              "      padding: 0 0 0 0;\n",
              "      width: 32px;\n",
              "    }\n",
              "\n",
              "    .colab-df-convert:hover {\n",
              "      background-color: #E2EBFA;\n",
              "      box-shadow: 0px 1px 2px rgba(60, 64, 67, 0.3), 0px 1px 3px 1px rgba(60, 64, 67, 0.15);\n",
              "      fill: #174EA6;\n",
              "    }\n",
              "\n",
              "    .colab-df-buttons div {\n",
              "      margin-bottom: 4px;\n",
              "    }\n",
              "\n",
              "    [theme=dark] .colab-df-convert {\n",
              "      background-color: #3B4455;\n",
              "      fill: #D2E3FC;\n",
              "    }\n",
              "\n",
              "    [theme=dark] .colab-df-convert:hover {\n",
              "      background-color: #434B5C;\n",
              "      box-shadow: 0px 1px 3px 1px rgba(0, 0, 0, 0.15);\n",
              "      filter: drop-shadow(0px 1px 2px rgba(0, 0, 0, 0.3));\n",
              "      fill: #FFFFFF;\n",
              "    }\n",
              "  </style>\n",
              "\n",
              "    <script>\n",
              "      const buttonEl =\n",
              "        document.querySelector('#df-6931ac4c-7368-4c04-b8ae-d21f0de4dd6d button.colab-df-convert');\n",
              "      buttonEl.style.display =\n",
              "        google.colab.kernel.accessAllowed ? 'block' : 'none';\n",
              "\n",
              "      async function convertToInteractive(key) {\n",
              "        const element = document.querySelector('#df-6931ac4c-7368-4c04-b8ae-d21f0de4dd6d');\n",
              "        const dataTable =\n",
              "          await google.colab.kernel.invokeFunction('convertToInteractive',\n",
              "                                                    [key], {});\n",
              "        if (!dataTable) return;\n",
              "\n",
              "        const docLinkHtml = 'Like what you see? Visit the ' +\n",
              "          '<a target=\"_blank\" href=https://colab.research.google.com/notebooks/data_table.ipynb>data table notebook</a>'\n",
              "          + ' to learn more about interactive tables.';\n",
              "        element.innerHTML = '';\n",
              "        dataTable['output_type'] = 'display_data';\n",
              "        await google.colab.output.renderOutput(dataTable, element);\n",
              "        const docLink = document.createElement('div');\n",
              "        docLink.innerHTML = docLinkHtml;\n",
              "        element.appendChild(docLink);\n",
              "      }\n",
              "    </script>\n",
              "  </div>\n",
              "\n",
              "\n",
              "    <div id=\"df-e66a0e54-68ee-4be7-bca9-e88ae83e5e05\">\n",
              "      <button class=\"colab-df-quickchart\" onclick=\"quickchart('df-e66a0e54-68ee-4be7-bca9-e88ae83e5e05')\"\n",
              "                title=\"Suggest charts\"\n",
              "                style=\"display:none;\">\n",
              "\n",
              "<svg xmlns=\"http://www.w3.org/2000/svg\" height=\"24px\"viewBox=\"0 0 24 24\"\n",
              "     width=\"24px\">\n",
              "    <g>\n",
              "        <path d=\"M19 3H5c-1.1 0-2 .9-2 2v14c0 1.1.9 2 2 2h14c1.1 0 2-.9 2-2V5c0-1.1-.9-2-2-2zM9 17H7v-7h2v7zm4 0h-2V7h2v10zm4 0h-2v-4h2v4z\"/>\n",
              "    </g>\n",
              "</svg>\n",
              "      </button>\n",
              "\n",
              "<style>\n",
              "  .colab-df-quickchart {\n",
              "      --bg-color: #E8F0FE;\n",
              "      --fill-color: #1967D2;\n",
              "      --hover-bg-color: #E2EBFA;\n",
              "      --hover-fill-color: #174EA6;\n",
              "      --disabled-fill-color: #AAA;\n",
              "      --disabled-bg-color: #DDD;\n",
              "  }\n",
              "\n",
              "  [theme=dark] .colab-df-quickchart {\n",
              "      --bg-color: #3B4455;\n",
              "      --fill-color: #D2E3FC;\n",
              "      --hover-bg-color: #434B5C;\n",
              "      --hover-fill-color: #FFFFFF;\n",
              "      --disabled-bg-color: #3B4455;\n",
              "      --disabled-fill-color: #666;\n",
              "  }\n",
              "\n",
              "  .colab-df-quickchart {\n",
              "    background-color: var(--bg-color);\n",
              "    border: none;\n",
              "    border-radius: 50%;\n",
              "    cursor: pointer;\n",
              "    display: none;\n",
              "    fill: var(--fill-color);\n",
              "    height: 32px;\n",
              "    padding: 0;\n",
              "    width: 32px;\n",
              "  }\n",
              "\n",
              "  .colab-df-quickchart:hover {\n",
              "    background-color: var(--hover-bg-color);\n",
              "    box-shadow: 0 1px 2px rgba(60, 64, 67, 0.3), 0 1px 3px 1px rgba(60, 64, 67, 0.15);\n",
              "    fill: var(--button-hover-fill-color);\n",
              "  }\n",
              "\n",
              "  .colab-df-quickchart-complete:disabled,\n",
              "  .colab-df-quickchart-complete:disabled:hover {\n",
              "    background-color: var(--disabled-bg-color);\n",
              "    fill: var(--disabled-fill-color);\n",
              "    box-shadow: none;\n",
              "  }\n",
              "\n",
              "  .colab-df-spinner {\n",
              "    border: 2px solid var(--fill-color);\n",
              "    border-color: transparent;\n",
              "    border-bottom-color: var(--fill-color);\n",
              "    animation:\n",
              "      spin 1s steps(1) infinite;\n",
              "  }\n",
              "\n",
              "  @keyframes spin {\n",
              "    0% {\n",
              "      border-color: transparent;\n",
              "      border-bottom-color: var(--fill-color);\n",
              "      border-left-color: var(--fill-color);\n",
              "    }\n",
              "    20% {\n",
              "      border-color: transparent;\n",
              "      border-left-color: var(--fill-color);\n",
              "      border-top-color: var(--fill-color);\n",
              "    }\n",
              "    30% {\n",
              "      border-color: transparent;\n",
              "      border-left-color: var(--fill-color);\n",
              "      border-top-color: var(--fill-color);\n",
              "      border-right-color: var(--fill-color);\n",
              "    }\n",
              "    40% {\n",
              "      border-color: transparent;\n",
              "      border-right-color: var(--fill-color);\n",
              "      border-top-color: var(--fill-color);\n",
              "    }\n",
              "    60% {\n",
              "      border-color: transparent;\n",
              "      border-right-color: var(--fill-color);\n",
              "    }\n",
              "    80% {\n",
              "      border-color: transparent;\n",
              "      border-right-color: var(--fill-color);\n",
              "      border-bottom-color: var(--fill-color);\n",
              "    }\n",
              "    90% {\n",
              "      border-color: transparent;\n",
              "      border-bottom-color: var(--fill-color);\n",
              "    }\n",
              "  }\n",
              "</style>\n",
              "\n",
              "      <script>\n",
              "        async function quickchart(key) {\n",
              "          const quickchartButtonEl =\n",
              "            document.querySelector('#' + key + ' button');\n",
              "          quickchartButtonEl.disabled = true;  // To prevent multiple clicks.\n",
              "          quickchartButtonEl.classList.add('colab-df-spinner');\n",
              "          try {\n",
              "            const charts = await google.colab.kernel.invokeFunction(\n",
              "                'suggestCharts', [key], {});\n",
              "          } catch (error) {\n",
              "            console.error('Error during call to suggestCharts:', error);\n",
              "          }\n",
              "          quickchartButtonEl.classList.remove('colab-df-spinner');\n",
              "          quickchartButtonEl.classList.add('colab-df-quickchart-complete');\n",
              "        }\n",
              "        (() => {\n",
              "          let quickchartButtonEl =\n",
              "            document.querySelector('#df-e66a0e54-68ee-4be7-bca9-e88ae83e5e05 button');\n",
              "          quickchartButtonEl.style.display =\n",
              "            google.colab.kernel.accessAllowed ? 'block' : 'none';\n",
              "        })();\n",
              "      </script>\n",
              "    </div>\n",
              "\n",
              "    </div>\n",
              "  </div>\n"
            ],
            "application/vnd.google.colaboratory.intrinsic+json": {
              "type": "dataframe",
              "variable_name": "df",
              "summary": "{\n  \"name\": \"df\",\n  \"rows\": 300,\n  \"fields\": [\n    {\n      \"column\": \"customer_id\",\n      \"properties\": {\n        \"dtype\": \"number\",\n        \"std\": 86,\n        \"min\": 1,\n        \"max\": 300,\n        \"num_unique_values\": 300,\n        \"samples\": [\n          204,\n          267,\n          153\n        ],\n        \"semantic_type\": \"\",\n        \"description\": \"\"\n      }\n    },\n    {\n      \"column\": \"monetary_purchase_amt\",\n      \"properties\": {\n        \"dtype\": \"number\",\n        \"std\": 5.1601730340651955,\n        \"min\": 1.0,\n        \"max\": 19.28313119,\n        \"num_unique_values\": 300,\n        \"samples\": [\n          17.09501243,\n          17.14012368,\n          9.514370188\n        ],\n        \"semantic_type\": \"\",\n        \"description\": \"\"\n      }\n    },\n    {\n      \"column\": \"frequency_purchase\",\n      \"properties\": {\n        \"dtype\": \"number\",\n        \"std\": 8.332945873833916,\n        \"min\": 1.0,\n        \"max\": 23.55030016,\n        \"num_unique_values\": 300,\n        \"samples\": [\n          2.720963242,\n          1.859801599,\n          21.92648792\n        ],\n        \"semantic_type\": \"\",\n        \"description\": \"\"\n      }\n    },\n    {\n      \"column\": \"recency_of_purchase\",\n      \"properties\": {\n        \"dtype\": \"number\",\n        \"std\": 6.105274810545168,\n        \"min\": 1.0,\n        \"max\": 23.0465064,\n        \"num_unique_values\": 300,\n        \"samples\": [\n          21.67890378,\n          21.23257241,\n          13.84797552\n        ],\n        \"semantic_type\": \"\",\n        \"description\": \"\"\n      }\n    }\n  ]\n}"
            }
          },
          "metadata": {},
          "execution_count": 5
        }
      ]
    },
    {
      "cell_type": "code",
      "source": [
        "df.info()"
      ],
      "metadata": {
        "colab": {
          "base_uri": "https://localhost:8080/"
        },
        "id": "_OoS5xyzeYub",
        "outputId": "ee939a15-5d35-467a-b8f3-3366248dd196"
      },
      "execution_count": null,
      "outputs": [
        {
          "output_type": "stream",
          "name": "stdout",
          "text": [
            "<class 'pandas.core.frame.DataFrame'>\n",
            "RangeIndex: 300 entries, 0 to 299\n",
            "Data columns (total 4 columns):\n",
            " #   Column                 Non-Null Count  Dtype  \n",
            "---  ------                 --------------  -----  \n",
            " 0   customer_id            300 non-null    int64  \n",
            " 1   monetary_purchase_amt  300 non-null    float64\n",
            " 2   frequency_purchase     300 non-null    float64\n",
            " 3   recency_of_purchase    300 non-null    float64\n",
            "dtypes: float64(3), int64(1)\n",
            "memory usage: 9.5 KB\n"
          ]
        }
      ]
    },
    {
      "cell_type": "code",
      "source": [
        "df.shape"
      ],
      "metadata": {
        "colab": {
          "base_uri": "https://localhost:8080/"
        },
        "id": "6QcGUcLWeYxu",
        "outputId": "3daee6b6-1d04-47dc-d537-c237807740b3"
      },
      "execution_count": null,
      "outputs": [
        {
          "output_type": "execute_result",
          "data": {
            "text/plain": [
              "(300, 4)"
            ]
          },
          "metadata": {},
          "execution_count": 7
        }
      ]
    },
    {
      "cell_type": "code",
      "source": [
        "df.isnull().sum()"
      ],
      "metadata": {
        "colab": {
          "base_uri": "https://localhost:8080/",
          "height": 209
        },
        "id": "YVANGaswi1ZF",
        "outputId": "4f097d70-c082-449d-9174-0f96c28de38d"
      },
      "execution_count": null,
      "outputs": [
        {
          "output_type": "execute_result",
          "data": {
            "text/plain": [
              "customer_id              0\n",
              "monetary_purchase_amt    0\n",
              "frequency_purchase       0\n",
              "recency_of_purchase      0\n",
              "dtype: int64"
            ],
            "text/html": [
              "<div>\n",
              "<style scoped>\n",
              "    .dataframe tbody tr th:only-of-type {\n",
              "        vertical-align: middle;\n",
              "    }\n",
              "\n",
              "    .dataframe tbody tr th {\n",
              "        vertical-align: top;\n",
              "    }\n",
              "\n",
              "    .dataframe thead th {\n",
              "        text-align: right;\n",
              "    }\n",
              "</style>\n",
              "<table border=\"1\" class=\"dataframe\">\n",
              "  <thead>\n",
              "    <tr style=\"text-align: right;\">\n",
              "      <th></th>\n",
              "      <th>0</th>\n",
              "    </tr>\n",
              "  </thead>\n",
              "  <tbody>\n",
              "    <tr>\n",
              "      <th>customer_id</th>\n",
              "      <td>0</td>\n",
              "    </tr>\n",
              "    <tr>\n",
              "      <th>monetary_purchase_amt</th>\n",
              "      <td>0</td>\n",
              "    </tr>\n",
              "    <tr>\n",
              "      <th>frequency_purchase</th>\n",
              "      <td>0</td>\n",
              "    </tr>\n",
              "    <tr>\n",
              "      <th>recency_of_purchase</th>\n",
              "      <td>0</td>\n",
              "    </tr>\n",
              "  </tbody>\n",
              "</table>\n",
              "</div><br><label><b>dtype:</b> int64</label>"
            ]
          },
          "metadata": {},
          "execution_count": 8
        }
      ]
    },
    {
      "cell_type": "code",
      "source": [
        "(df==0).sum()"
      ],
      "metadata": {
        "colab": {
          "base_uri": "https://localhost:8080/",
          "height": 209
        },
        "id": "lac-FUJzi1by",
        "outputId": "64137b25-9983-49ce-a449-48e612f4dd67"
      },
      "execution_count": null,
      "outputs": [
        {
          "output_type": "execute_result",
          "data": {
            "text/plain": [
              "customer_id              0\n",
              "monetary_purchase_amt    0\n",
              "frequency_purchase       0\n",
              "recency_of_purchase      0\n",
              "dtype: int64"
            ],
            "text/html": [
              "<div>\n",
              "<style scoped>\n",
              "    .dataframe tbody tr th:only-of-type {\n",
              "        vertical-align: middle;\n",
              "    }\n",
              "\n",
              "    .dataframe tbody tr th {\n",
              "        vertical-align: top;\n",
              "    }\n",
              "\n",
              "    .dataframe thead th {\n",
              "        text-align: right;\n",
              "    }\n",
              "</style>\n",
              "<table border=\"1\" class=\"dataframe\">\n",
              "  <thead>\n",
              "    <tr style=\"text-align: right;\">\n",
              "      <th></th>\n",
              "      <th>0</th>\n",
              "    </tr>\n",
              "  </thead>\n",
              "  <tbody>\n",
              "    <tr>\n",
              "      <th>customer_id</th>\n",
              "      <td>0</td>\n",
              "    </tr>\n",
              "    <tr>\n",
              "      <th>monetary_purchase_amt</th>\n",
              "      <td>0</td>\n",
              "    </tr>\n",
              "    <tr>\n",
              "      <th>frequency_purchase</th>\n",
              "      <td>0</td>\n",
              "    </tr>\n",
              "    <tr>\n",
              "      <th>recency_of_purchase</th>\n",
              "      <td>0</td>\n",
              "    </tr>\n",
              "  </tbody>\n",
              "</table>\n",
              "</div><br><label><b>dtype:</b> int64</label>"
            ]
          },
          "metadata": {},
          "execution_count": 9
        }
      ]
    },
    {
      "cell_type": "code",
      "source": [
        "#Feature selection\n",
        "X=df[[\"monetary_purchase_amt\",\"frequency_purchase\",\"recency_of_purchase\"]]"
      ],
      "metadata": {
        "id": "E6IwxzJ2i8bx"
      },
      "execution_count": null,
      "outputs": []
    },
    {
      "cell_type": "code",
      "source": [
        "#Data Preprocessing\n",
        "scaler=StandardScaler()\n",
        "X_scaled=scaler.fit_transform(X)"
      ],
      "metadata": {
        "id": "FesjsR8Gi8h2"
      },
      "execution_count": null,
      "outputs": []
    },
    {
      "cell_type": "code",
      "source": [
        "X_scaled"
      ],
      "metadata": {
        "colab": {
          "base_uri": "https://localhost:8080/"
        },
        "id": "FMAoKMUlkyyR",
        "outputId": "3bd208c3-4504-4f2e-ebff-c659e381c49d"
      },
      "execution_count": null,
      "outputs": [
        {
          "output_type": "execute_result",
          "data": {
            "text/plain": [
              "array([[-1.58194744e+00,  7.33524824e-01,  2.89606613e-01],\n",
              "       [-4.82876548e-01,  1.10586376e+00,  7.52018273e-02],\n",
              "       [ 1.04579854e+00, -1.01253618e+00,  1.59198328e+00],\n",
              "       [-6.07048042e-02,  1.15905827e+00,  3.44992862e-01],\n",
              "       [ 5.01984282e-01,  1.14938160e+00,  5.83026211e-01],\n",
              "       [-1.27155571e-01,  1.20468950e+00,  5.49509808e-01],\n",
              "       [ 3.67928453e-01, -6.09635604e-01, -1.29981922e+00],\n",
              "       [-9.99295286e-02,  1.17584394e+00,  2.47517989e-01],\n",
              "       [ 6.37756192e-01, -8.76105143e-01, -1.47470140e+00],\n",
              "       [-1.14697464e+00,  9.83495511e-01, -3.40469330e-02],\n",
              "       [ 1.05405116e+00, -1.09316252e+00,  1.05832819e+00],\n",
              "       [ 7.75931409e-01, -1.26636655e+00,  9.55632299e-01],\n",
              "       [-1.76439410e-01,  1.14816679e+00,  5.74410359e-01],\n",
              "       [ 6.37312910e-01, -5.82073651e-01, -1.20533322e+00],\n",
              "       [-1.58946839e+00,  7.73660091e-01, -2.47781179e-02],\n",
              "       [ 1.03793244e+00, -1.11838864e+00,  8.96817131e-01],\n",
              "       [-1.52217799e+00,  8.44734010e-01, -4.75207543e-01],\n",
              "       [-1.88242168e-01,  1.11086785e+00,  4.53558505e-01],\n",
              "       [ 1.18637228e+00, -1.22300022e+00,  1.28115531e+00],\n",
              "       [-1.45915114e-01,  1.14251728e+00,  4.81220026e-01],\n",
              "       [ 1.22835468e+00, -1.17761465e+00,  1.09163710e+00],\n",
              "       [ 6.91643803e-01, -1.30920123e+00,  1.07488664e+00],\n",
              "       [-4.13319982e-02,  9.15152830e-01,  2.42852335e-01],\n",
              "       [ 4.61203277e-01, -9.01838749e-01, -1.84178584e+00],\n",
              "       [ 9.25309533e-01, -8.15883307e-01, -1.29984267e+00],\n",
              "       [ 8.29663370e-01, -1.04119930e+00, -1.68745882e+00],\n",
              "       [-1.37163206e+00,  1.05080237e+00, -4.38252862e-01],\n",
              "       [ 9.62507426e-01, -9.80682621e-01,  1.43655323e+00],\n",
              "       [ 3.86139356e-02,  1.05361739e+00,  4.07797086e-01],\n",
              "       [-9.31060534e-02,  1.22002732e+00,  2.62071527e-01],\n",
              "       [ 7.89677242e-01, -9.25053922e-01, -1.51215019e+00],\n",
              "       [-4.24366293e-01,  1.26706863e+00,  2.68212376e-01],\n",
              "       [-1.64149518e+00,  8.31291124e-01,  1.32360012e-01],\n",
              "       [-7.54425349e-01,  1.17955477e+00,  4.10999478e-01],\n",
              "       [-5.29982868e-01,  1.11635254e+00,  4.39548388e-01],\n",
              "       [ 1.23777461e+00, -1.08064294e+00,  9.19777196e-01],\n",
              "       [ 7.46427382e-01, -9.29438351e-01, -1.58523271e+00],\n",
              "       [ 6.84558563e-01, -6.52441299e-01, -1.35261260e+00],\n",
              "       [ 1.32472872e+00, -1.22399547e+00,  1.04083678e+00],\n",
              "       [-1.46763019e+00,  7.93405776e-01,  2.36803689e-03],\n",
              "       [-2.43367698e-01,  1.25548073e+00,  3.53296663e-01],\n",
              "       [-1.62791894e+00,  9.34190411e-01,  2.76038212e-01],\n",
              "       [ 1.79310361e-01,  9.61688580e-01,  3.03807507e-01],\n",
              "       [ 8.49994910e-01, -8.28558026e-01, -1.65435844e+00],\n",
              "       [ 1.23112214e+00, -1.21742001e+00,  1.19316861e+00],\n",
              "       [ 1.25878304e+00, -1.05514576e+00,  1.25273446e+00],\n",
              "       [ 6.43034953e-01, -7.58246603e-01, -1.62756836e+00],\n",
              "       [-2.32582417e-01,  9.53061703e-01,  4.74418608e-01],\n",
              "       [ 1.18127650e+00, -1.15198425e+00,  1.18228040e+00],\n",
              "       [ 4.63627957e-01, -7.67359488e-01, -1.24185473e+00],\n",
              "       [-1.76149227e+00,  1.01500325e+00,  2.27970187e-02],\n",
              "       [ 4.44274709e-01, -8.36943413e-01, -2.02510905e+00],\n",
              "       [-1.40123543e+00,  9.68511685e-01, -1.84035294e-01],\n",
              "       [ 1.01327242e+00, -1.15317242e+00,  1.23442491e+00],\n",
              "       [ 1.01654623e+00, -1.13775241e+00,  1.37534607e+00],\n",
              "       [-2.12003269e-01,  1.11171620e+00,  3.84503894e-01],\n",
              "       [ 7.89127656e-01, -7.86872666e-01, -1.60700901e+00],\n",
              "       [ 7.62342164e-01, -9.64976931e-01, -1.74502247e+00],\n",
              "       [ 2.32262512e-01,  1.05763412e+00,  4.46191778e-01],\n",
              "       [ 5.32770556e-01, -8.01894287e-01, -1.73090786e+00],\n",
              "       [ 7.38408144e-01, -7.96011168e-01, -1.59548989e+00],\n",
              "       [-1.32743122e+00,  8.13747574e-01, -1.27211352e-01],\n",
              "       [ 6.38921368e-01, -9.11187064e-01, -1.33334134e+00],\n",
              "       [-1.72487712e+00,  7.21840688e-01, -8.78298983e-02],\n",
              "       [-3.40108278e-01,  1.09059885e+00,  7.76475818e-01],\n",
              "       [ 6.71510034e-01, -8.00341628e-01, -1.57649816e+00],\n",
              "       [ 1.39733842e+00, -1.21760832e+00,  1.21411451e+00],\n",
              "       [ 1.34996304e+00, -1.27539652e+00,  1.33889271e+00],\n",
              "       [ 8.39136382e-01, -1.02879290e+00,  1.17090874e+00],\n",
              "       [ 1.73759763e-02,  1.07210102e+00,  5.61364066e-01],\n",
              "       [ 9.45936492e-01, -1.21422189e+00,  1.34871019e+00],\n",
              "       [-1.48501488e+00,  8.49757307e-01,  8.14852250e-02],\n",
              "       [-1.90369158e+00,  9.05839349e-01,  9.37342352e-02],\n",
              "       [-2.44898968e-01,  1.05255828e+00,  1.64503101e-01],\n",
              "       [ 2.28359431e-01, -8.62172445e-01, -1.37560116e+00],\n",
              "       [ 1.27207853e+00, -1.23991438e+00,  1.17165797e+00],\n",
              "       [ 1.25261569e+00, -1.24005469e+00,  9.46317148e-01],\n",
              "       [-1.25714828e+00,  8.62140570e-01, -1.89511031e-01],\n",
              "       [ 8.89879448e-01, -9.45777779e-01, -1.38076775e+00],\n",
              "       [-6.18355279e-01,  1.07756995e+00,  4.06599730e-01],\n",
              "       [ 8.90406402e-01, -1.11107151e+00,  1.11286470e+00],\n",
              "       [-1.46258278e-01,  1.09242639e+00,  5.55640130e-01],\n",
              "       [ 5.07858380e-01, -8.29157778e-01, -1.48561784e+00],\n",
              "       [-4.53768668e-01,  1.13875320e+00,  3.60055223e-01],\n",
              "       [-1.79668599e-01,  1.11401700e+00,  5.32431003e-01],\n",
              "       [ 1.18135236e+00, -9.33402819e-01,  1.27320144e+00],\n",
              "       [ 4.70297408e-01, -8.42653803e-01, -1.66317433e+00],\n",
              "       [ 3.29272872e-01, -8.87995987e-01, -1.28546815e+00],\n",
              "       [-1.62916531e+00,  9.46884627e-01, -6.60518291e-02],\n",
              "       [-9.85636934e-02,  9.87858782e-01,  3.57863981e-01],\n",
              "       [ 7.46178268e-01, -8.31260239e-01, -1.64053514e+00],\n",
              "       [-3.08408782e-01,  1.17854680e+00,  1.94774417e-01],\n",
              "       [-4.77142339e-01,  1.15967882e+00,  2.36805399e-01],\n",
              "       [-1.15049204e+00,  8.46312582e-01, -2.79354238e-01],\n",
              "       [ 6.46981602e-01, -6.76205000e-01, -1.59038281e+00],\n",
              "       [-1.68926950e+00,  1.18685056e+00, -2.30231318e-02],\n",
              "       [ 1.27596517e+00, -9.89244358e-01,  1.28382995e+00],\n",
              "       [-1.81975301e+00,  1.05735068e+00,  7.46205677e-02],\n",
              "       [-1.32784206e+00,  9.37730341e-01, -1.93122923e-01],\n",
              "       [-4.18560329e-01,  9.82691715e-01,  3.84068168e-01],\n",
              "       [-4.60648611e-01,  9.36965758e-01,  5.30026210e-01],\n",
              "       [-1.21330818e+00,  1.06902778e+00, -1.16612239e-01],\n",
              "       [ 8.39135064e-01, -1.08134908e+00,  1.27470644e+00],\n",
              "       [-5.32895971e-01,  9.94227421e-01,  3.21142599e-01],\n",
              "       [ 8.49014067e-01, -7.34625425e-01, -1.39092865e+00],\n",
              "       [ 9.41083249e-01, -1.00169981e+00, -1.56552233e+00],\n",
              "       [ 7.88007465e-01, -1.26581585e+00,  1.01265259e+00],\n",
              "       [-1.58645919e+00,  9.77972325e-01, -2.18085899e-01],\n",
              "       [ 6.06906906e-01, -9.86593281e-01, -1.38345498e+00],\n",
              "       [-4.06874990e-02,  1.12206209e+00,  1.07462209e-01],\n",
              "       [ 3.56307083e-01, -1.03454505e+00, -1.50243930e+00],\n",
              "       [-9.99716423e-01,  8.93050216e-01, -1.47908738e-02],\n",
              "       [ 5.36841714e-01, -7.54917747e-01, -1.66848649e+00],\n",
              "       [-5.80725285e-01,  1.01316669e+00,  2.30546353e-01],\n",
              "       [ 8.75329116e-01, -1.17785140e+00,  1.10525329e+00],\n",
              "       [ 1.16946871e+00, -1.13402754e+00,  9.58313186e-01],\n",
              "       [ 1.07115987e+00, -1.13732110e+00,  1.11774184e+00],\n",
              "       [-1.63577590e+00,  9.10027601e-01, -4.09812792e-02],\n",
              "       [ 9.59251567e-01, -1.20761738e+00,  1.12667363e+00],\n",
              "       [-1.78631192e+00,  9.01974611e-01, -1.56830683e-01],\n",
              "       [ 6.90546725e-01, -6.04260941e-01, -1.33739311e+00],\n",
              "       [ 1.08930193e+00, -1.12274286e+00,  9.67926788e-01],\n",
              "       [ 9.47491115e-01, -1.20589730e+00,  1.13116701e+00],\n",
              "       [ 1.07267051e+00, -8.47650533e-01,  1.16163820e+00],\n",
              "       [ 7.04363007e-01, -8.97551227e-01, -1.62822458e+00],\n",
              "       [ 5.12220424e-01, -9.37783017e-01, -1.41261835e+00],\n",
              "       [-1.63944357e+00,  9.77328465e-01, -1.73193536e-01],\n",
              "       [-7.96510776e-02,  1.10649245e+00,  1.92334017e-01],\n",
              "       [-1.20914358e+00,  1.07525218e+00, -7.35973524e-02],\n",
              "       [-1.50469480e+00,  1.01789156e+00,  9.00303724e-03],\n",
              "       [-1.11556390e+00,  1.01293702e+00, -7.68545065e-02],\n",
              "       [ 3.50995626e-01, -9.16149473e-01, -1.52834530e+00],\n",
              "       [-1.29468975e+00,  1.10704055e+00, -2.62196927e-01],\n",
              "       [-1.52786726e+00,  6.00812099e-01, -2.81330928e-01],\n",
              "       [-3.37500977e-01,  1.21165557e+00,  4.07264168e-01],\n",
              "       [ 1.24876180e+00, -1.09857919e+00,  1.21940430e+00],\n",
              "       [ 1.08837703e+00, -1.33758996e+00,  1.43129212e+00],\n",
              "       [ 1.06495910e+00, -1.02731106e+00,  1.09252873e+00],\n",
              "       [ 1.04217313e+00, -9.22027953e-01, -1.35020722e+00],\n",
              "       [-4.10267566e-01,  8.98663217e-01,  3.23459844e-01],\n",
              "       [ 5.63978846e-01, -7.90821332e-01, -1.51467790e+00],\n",
              "       [-3.77895077e-01,  1.10867539e+00,  4.44801336e-01],\n",
              "       [ 6.03094452e-01, -7.81499907e-01, -1.38009630e+00],\n",
              "       [ 1.03037183e+00, -9.50717519e-01, -1.69253342e+00],\n",
              "       [ 9.15837671e-01, -8.20881458e-01, -1.22612459e+00],\n",
              "       [-1.48526526e+00,  9.11170977e-01, -2.17393898e-01],\n",
              "       [ 7.13908070e-01, -8.05859915e-01, -1.59180124e+00],\n",
              "       [ 4.32861561e-01, -7.69198641e-01, -1.58032328e+00],\n",
              "       [ 8.77620504e-01, -8.27263313e-01, -1.38144017e+00],\n",
              "       [ 5.93159922e-01, -8.32073966e-01, -1.65780723e+00],\n",
              "       [ 2.31094442e-01, -8.07375158e-01, -1.60190275e+00],\n",
              "       [-1.45519343e+00,  9.67838352e-01, -3.06632310e-01],\n",
              "       [-3.36297050e-01,  1.10984242e+00,  8.28128492e-02],\n",
              "       [ 7.98833011e-01, -7.92848828e-01, -1.35996237e+00],\n",
              "       [-1.11015977e+00,  7.84502869e-01, -2.36944986e-01],\n",
              "       [ 8.99944883e-01, -1.15955762e+00,  1.21582519e+00],\n",
              "       [ 4.25356737e-01, -8.60148332e-01, -1.69804516e+00],\n",
              "       [ 1.22305816e-01,  1.05125993e+00,  2.73055147e-01],\n",
              "       [ 5.59274551e-01, -8.86879421e-01, -1.60051520e+00],\n",
              "       [-1.75055724e+00,  7.99795044e-01, -2.10184647e-01],\n",
              "       [ 9.41159624e-01, -1.23200610e+00,  1.37247615e+00],\n",
              "       [ 6.43166979e-01, -9.22708586e-01, -1.48930449e+00],\n",
              "       [ 4.97720621e-01, -5.72072965e-01, -1.38932093e+00],\n",
              "       [-1.50249803e+00,  8.08559376e-01, -1.22460102e-01],\n",
              "       [-2.26547671e-01,  1.02023624e+00,  1.42306108e-01],\n",
              "       [-1.53776170e+00,  1.02191027e+00, -9.96903728e-02],\n",
              "       [-1.62263602e+00,  6.60559223e-01, -2.99764022e-01],\n",
              "       [ 8.72223700e-01, -7.89841934e-01, -1.61612732e+00],\n",
              "       [-1.52085897e+00,  7.68422364e-01, -1.27367722e-01],\n",
              "       [ 8.37496399e-01, -7.30568030e-01, -1.35985614e+00],\n",
              "       [ 1.32256301e+00, -8.79046731e-01,  1.11786877e+00],\n",
              "       [-2.01738014e-01,  1.23788360e+00,  1.32983885e-01],\n",
              "       [-5.03713398e-01,  1.10442100e+00,  5.17875573e-01],\n",
              "       [-3.27545452e-01,  1.03956071e+00,  2.65091179e-01],\n",
              "       [-1.66657328e+00,  8.62396690e-01, -2.35963012e-02],\n",
              "       [ 5.83806703e-01, -8.89049817e-01, -1.59002078e+00],\n",
              "       [ 5.95660356e-01, -9.29017893e-01, -1.54605442e+00],\n",
              "       [ 8.02377968e-01, -5.74692003e-01, -1.32393286e+00],\n",
              "       [-1.40894140e+00,  8.28006923e-01, -1.12738720e-01],\n",
              "       [ 1.09210614e+00, -1.21293679e+00,  1.38342588e+00],\n",
              "       [ 8.59554115e-01, -1.02873413e+00,  1.02163389e+00],\n",
              "       [ 9.44210626e-01, -1.24894525e+00,  1.20953005e+00],\n",
              "       [ 9.88898642e-01, -1.11618511e+00,  9.72132632e-01],\n",
              "       [ 5.75878648e-01, -7.12999357e-01, -1.38744124e+00],\n",
              "       [ 9.79242228e-01, -1.08438798e+00,  1.35929949e+00],\n",
              "       [ 6.49585315e-01, -6.56538275e-01, -1.72890261e+00],\n",
              "       [ 1.03536621e+00, -1.35504591e+00,  1.24788435e+00],\n",
              "       [ 6.20612818e-01, -8.64486629e-01, -1.44037849e+00],\n",
              "       [-2.12274425e-01,  1.12707457e+00,  2.51706609e-01],\n",
              "       [ 1.05800055e+00, -1.31885128e+00,  1.29983359e+00],\n",
              "       [-1.70955271e+00,  7.99162373e-01, -2.49623580e-02],\n",
              "       [ 1.08994829e+00, -1.16701379e+00,  1.08799546e+00],\n",
              "       [-2.48511594e-01,  9.53613783e-01,  5.31670007e-01],\n",
              "       [ 1.23974227e+00, -9.55188115e-01,  1.34382252e+00],\n",
              "       [ 1.39272677e+00, -1.23075355e+00,  1.47476044e+00],\n",
              "       [ 1.10447745e+00, -1.11518454e+00,  1.28544344e+00],\n",
              "       [-1.49628004e+00,  8.50955152e-01,  6.80252681e-02],\n",
              "       [-1.33438748e+00,  7.41798145e-01, -1.18795076e-01],\n",
              "       [-2.10051231e-01,  1.11199657e+00,  5.24988886e-01],\n",
              "       [ 4.18596486e-01, -8.37322511e-01, -1.33661896e+00],\n",
              "       [-1.50514722e+00,  8.26203339e-01, -1.98791276e-01],\n",
              "       [ 7.20875820e-01, -6.55351803e-01, -1.33594161e+00],\n",
              "       [ 1.55997329e+00, -1.09608847e+00,  1.20772382e+00],\n",
              "       [ 1.13522498e+00, -1.19877862e+00,  1.36760555e+00],\n",
              "       [-1.40243014e+00,  8.04914345e-01, -1.85324095e-02],\n",
              "       [-1.36900063e+00,  7.97865632e-01,  6.08772156e-02],\n",
              "       [ 1.14457902e+00, -1.12062845e+00,  1.58023082e+00],\n",
              "       [ 7.81238897e-01, -1.24325053e+00,  1.17196339e+00],\n",
              "       [ 7.87282460e-01, -1.06604342e+00,  1.20543170e+00],\n",
              "       [-1.30567119e+00,  1.04047297e+00,  3.50919117e-02],\n",
              "       [-3.84558430e-01,  1.30503454e+00,  4.74458064e-01],\n",
              "       [-1.45381561e+00,  8.46867229e-01,  2.14015920e-01],\n",
              "       [-1.74769558e+00,  7.84018740e-01, -2.14947142e-01],\n",
              "       [ 9.25191107e-01, -1.21921735e+00,  1.07516195e+00],\n",
              "       [-3.02513921e-01,  1.00842828e+00,  7.00614703e-01],\n",
              "       [-5.88850933e-02,  1.13037586e+00,  5.31590476e-01],\n",
              "       [ 1.03826188e+00, -1.06444094e+00, -1.51822863e+00],\n",
              "       [ 6.98759661e-01, -8.33718210e-01, -1.83252370e+00],\n",
              "       [-1.47177150e+00,  8.74617061e-01, -2.39824151e-04],\n",
              "       [-1.46514135e+00,  9.08737270e-01, -1.81106921e-01],\n",
              "       [ 1.20825499e+00, -1.09441086e+00,  1.35240396e+00],\n",
              "       [-6.08357149e-01,  1.16324973e+00,  1.32125384e-01],\n",
              "       [ 9.07837705e-01, -1.18514153e+00,  1.16518638e+00],\n",
              "       [ 1.08524085e+00, -1.24618992e+00,  1.07706885e+00],\n",
              "       [ 1.38961966e+00, -1.40564888e+00,  1.45573001e+00],\n",
              "       [-5.65228987e-02,  1.02315742e+00,  3.66257561e-01],\n",
              "       [ 1.39759462e+00, -1.22904922e+00,  1.11378959e+00],\n",
              "       [-3.03933606e-01,  1.09178728e+00,  7.06245698e-02],\n",
              "       [-2.88533343e-01,  1.12368418e+00,  6.39190821e-01],\n",
              "       [-2.16051106e-01,  1.08775412e+00,  2.09194878e-01],\n",
              "       [ 1.05456630e+00, -1.00171059e+00,  1.20875136e+00],\n",
              "       [-1.41101364e+00,  8.51179826e-01,  1.03338750e-01],\n",
              "       [-1.18719493e+00,  8.86817186e-01, -1.74046743e-01],\n",
              "       [-1.82981769e-01,  1.03446784e+00,  2.85657774e-01],\n",
              "       [-1.36519420e+00,  7.99305844e-01, -1.12659830e-01],\n",
              "       [ 6.59796079e-01, -5.66560453e-01, -1.62594043e+00],\n",
              "       [ 1.32986767e+00, -1.13176121e+00,  1.34668950e+00],\n",
              "       [-3.37023942e-01,  1.14597610e+00,  3.20686672e-01],\n",
              "       [ 6.01972521e-01, -6.80995043e-01, -1.75491789e+00],\n",
              "       [-1.52686237e+00,  7.59863683e-01, -1.05632514e-01],\n",
              "       [-1.41822553e+00,  1.12699286e+00,  1.10183458e-01],\n",
              "       [ 6.95369003e-01, -9.42767377e-01, -1.57763411e+00],\n",
              "       [-5.22457629e-01,  1.01531896e+00,  4.14916650e-01],\n",
              "       [ 1.12278887e+00, -1.08199216e+00,  1.26924125e+00],\n",
              "       [-1.87010746e+00,  7.56338930e-01, -3.39673104e-01],\n",
              "       [ 7.30406726e-01, -8.54092891e-01, -1.52903997e+00],\n",
              "       [-1.26207559e+00,  6.74072487e-01,  2.18209021e-01],\n",
              "       [-4.86003182e-01,  9.22030152e-01,  4.82351080e-01],\n",
              "       [-1.75692322e-01,  1.00320976e+00,  4.56010872e-01],\n",
              "       [-1.98907038e+00,  1.00872281e+00,  1.71701900e-01],\n",
              "       [ 7.52736499e-01, -6.39139221e-01, -1.69640980e+00],\n",
              "       [-1.55844175e+00,  9.24932593e-01, -1.01808325e-01],\n",
              "       [ 1.12646509e+00, -1.15991221e+00,  1.35841325e+00],\n",
              "       [ 5.22149181e-01, -9.21040472e-01, -1.46865121e+00],\n",
              "       [ 9.66908979e-01, -7.81106834e-01, -1.70019456e+00],\n",
              "       [-1.46058326e+00,  8.20099709e-01,  4.58456349e-02],\n",
              "       [-6.81976041e-02,  1.12027496e+00,  3.09802091e-01],\n",
              "       [ 1.14049566e+00, -1.22176886e+00,  1.28124130e+00],\n",
              "       [ 4.86836722e-01, -7.76438304e-01, -1.36623432e+00],\n",
              "       [ 8.31048456e-01, -1.10942031e+00,  1.20470764e+00],\n",
              "       [ 5.33132128e-01, -1.03571731e+00, -1.27120073e+00],\n",
              "       [-3.87667235e-01,  1.10677672e+00,  4.04194783e-01],\n",
              "       [-1.36255661e+00,  9.14931207e-01,  4.72402195e-01],\n",
              "       [ 2.64128951e-02,  9.12246044e-01,  4.93001540e-01],\n",
              "       [ 7.69267965e-01, -7.56417879e-01, -1.49675504e+00],\n",
              "       [-1.84891215e-01,  9.71607054e-01,  1.65006300e-01],\n",
              "       [ 1.14398179e+00, -1.30229549e+00,  1.29437754e+00],\n",
              "       [-3.46495981e-01,  9.83571224e-01,  3.14396470e-01],\n",
              "       [ 2.82136101e-01,  1.15596610e+00,  2.56087164e-01],\n",
              "       [ 7.22232493e-01, -7.25719055e-01, -1.69025417e+00],\n",
              "       [ 5.96568408e-01, -8.15327835e-01, -1.40892362e+00],\n",
              "       [-2.77199667e-01,  1.12932645e+00,  7.06177822e-01],\n",
              "       [-3.82171131e-01,  1.04137009e+00,  3.32386176e-01],\n",
              "       [-4.69317549e-01,  1.12591827e+00,  2.98173307e-01],\n",
              "       [ 1.00233554e+00, -1.20044403e+00,  1.29404310e+00],\n",
              "       [ 8.82365718e-01, -1.07120677e+00,  1.08295555e+00],\n",
              "       [-1.51142313e+00,  7.72262396e-01, -2.59609951e-01],\n",
              "       [-1.33359267e+00,  9.35337283e-01,  3.99296919e-03],\n",
              "       [-1.35051454e+00,  6.77792213e-01, -4.35803692e-02],\n",
              "       [ 1.43919884e+00, -1.17665842e+00,  1.04642461e+00],\n",
              "       [ 7.60615819e-01, -1.12328722e+00,  1.32335699e+00],\n",
              "       [-1.79570914e+00,  9.76467161e-01, -2.07098701e-02],\n",
              "       [ 5.46323298e-01, -8.02850821e-01, -1.49125979e+00],\n",
              "       [ 5.26655475e-02,  1.07645057e+00,  6.53423524e-01],\n",
              "       [-1.43917229e+00,  9.07354669e-01, -1.08104608e-01],\n",
              "       [-2.12626289e-01,  1.06685545e+00,  3.47316954e-01],\n",
              "       [-4.08796907e-01,  1.04358787e+00,  4.51067192e-01],\n",
              "       [-1.55508932e+00,  9.53581277e-01,  3.39805656e-01],\n",
              "       [-1.48083332e+00,  8.12194077e-01, -1.49692976e-01],\n",
              "       [ 8.59068917e-01, -1.10631382e+00,  8.98061541e-01],\n",
              "       [-1.40970633e+00,  1.00223566e+00, -1.16415477e-01],\n",
              "       [ 1.00744788e+00, -1.16133413e+00,  1.28811366e+00],\n",
              "       [-2.52629672e-01,  9.40274861e-01,  5.84216869e-01],\n",
              "       [-1.87695309e+00,  8.36323907e-01, -9.36798800e-02],\n",
              "       [-1.07292830e-01,  1.13764312e+00,  3.84769191e-01],\n",
              "       [-1.13433211e+00,  9.89991285e-01,  1.75880656e-01],\n",
              "       [ 7.46820245e-01, -1.08254220e+00,  9.67322896e-01],\n",
              "       [-4.55098803e-01,  9.94773216e-01,  5.08217172e-01],\n",
              "       [-1.17881303e+00,  9.42297313e-01, -2.02916199e-01],\n",
              "       [-1.54270970e+00,  8.79731045e-01,  2.42308250e-01]])"
            ]
          },
          "metadata": {},
          "execution_count": 14
        }
      ]
    },
    {
      "cell_type": "code",
      "source": [
        "X_train,X_test=train_test_split(X_scaled,test_size=0.2,random_state=42)"
      ],
      "metadata": {
        "id": "QBoeZ2hUkc6D"
      },
      "execution_count": null,
      "outputs": []
    },
    {
      "cell_type": "code",
      "source": [
        "#Elbow methdo to find optimal number of clusters\n",
        "wcss=[]\n",
        "for i in range(2,11):\n",
        "  kmeans=KMeans(n_clusters=i,init=\"k-means++\",random_state=42)\n",
        "  kmeans.fit(X_train)\n",
        "  wcss.append(kmeans.inertia_)\n"
      ],
      "metadata": {
        "id": "VEhkjpwyjv07"
      },
      "execution_count": null,
      "outputs": []
    },
    {
      "cell_type": "code",
      "source": [
        "plt.figure(figsize=(8,4))\n",
        "plt.title(\"Elbow method\")\n",
        "plt.xlabel('Number of clusters')\n",
        "plt.ylabel('WCSS')\n",
        "plt.plot(range(2,11),wcss,marker=\"o\")\n",
        "plt.grid(True)\n",
        "plt.show()"
      ],
      "metadata": {
        "colab": {
          "base_uri": "https://localhost:8080/",
          "height": 410
        },
        "id": "05H9OtQ3jv3H",
        "outputId": "a6f3841e-9bcf-4ff9-f1c1-a2447ef7820b"
      },
      "execution_count": null,
      "outputs": [
        {
          "output_type": "display_data",
          "data": {
            "text/plain": [
              "<Figure size 800x400 with 1 Axes>"
            ],
            "image/png": "[encoded data removed]"
          },
          "metadata": {}
        }
      ]
    },
    {
      "cell_type": "code",
      "source": [
        "#Apply kmeans with optimal number of clusters\n",
        "kmeans=KMeans(n_clusters=4,init=\"k-means++\",random_state=42)\n",
        "df[\"Cluster\"]=kmeans.fit_predict(X_scaled)"
      ],
      "metadata": {
        "id": "_ew4-8Pjjv6_"
      },
      "execution_count": null,
      "outputs": []
    },
    {
      "cell_type": "code",
      "source": [
        "df.head()\n",
        "df[\"Cluster\"].value_counts()"
      ],
      "metadata": {
        "colab": {
          "base_uri": "https://localhost:8080/",
          "height": 241
        },
        "id": "8y14Vxpxjv-i",
        "outputId": "f6813bbd-7023-424f-d8eb-3e221a351918"
      },
      "execution_count": null,
      "outputs": [
        {
          "output_type": "execute_result",
          "data": {
            "text/plain": [
              "Cluster\n",
              "1    75\n",
              "3    75\n",
              "2    75\n",
              "0    75\n",
              "Name: count, dtype: int64"
            ],
            "text/html": [
              "<div>\n",
              "<style scoped>\n",
              "    .dataframe tbody tr th:only-of-type {\n",
              "        vertical-align: middle;\n",
              "    }\n",
              "\n",
              "    .dataframe tbody tr th {\n",
              "        vertical-align: top;\n",
              "    }\n",
              "\n",
              "    .dataframe thead th {\n",
              "        text-align: right;\n",
              "    }\n",
              "</style>\n",
              "<table border=\"1\" class=\"dataframe\">\n",
              "  <thead>\n",
              "    <tr style=\"text-align: right;\">\n",
              "      <th></th>\n",
              "      <th>count</th>\n",
              "    </tr>\n",
              "    <tr>\n",
              "      <th>Cluster</th>\n",
              "      <th></th>\n",
              "    </tr>\n",
              "  </thead>\n",
              "  <tbody>\n",
              "    <tr>\n",
              "      <th>1</th>\n",
              "      <td>75</td>\n",
              "    </tr>\n",
              "    <tr>\n",
              "      <th>3</th>\n",
              "      <td>75</td>\n",
              "    </tr>\n",
              "    <tr>\n",
              "      <th>2</th>\n",
              "      <td>75</td>\n",
              "    </tr>\n",
              "    <tr>\n",
              "      <th>0</th>\n",
              "      <td>75</td>\n",
              "    </tr>\n",
              "  </tbody>\n",
              "</table>\n",
              "</div><br><label><b>dtype:</b> int64</label>"
            ]
          },
          "metadata": {},
          "execution_count": 34
        }
      ]
    },
    {
      "cell_type": "code",
      "source": [
        "# Interpreting the Silhouette Score: Range: The score is between -1 and 1.\n",
        "#Closer to 1: The clusters are well-separated and compact (good clustering).\n",
        "#Closer to 0: The clusters are overlapping or poorly defined.\n",
        "#Negative: Your clusters are likely incorrect (points might be assigned to the wrong cluster).\n",
        "#Silhouette score\n",
        "sil_score=silhouette_score(X_scaled,df[\"Cluster\"])\n",
        "print(f\"Silhouette Score:{sil_score: .3f}\")"
      ],
      "metadata": {
        "colab": {
          "base_uri": "https://localhost:8080/"
        },
        "id": "CXsg-qxkpbT9",
        "outputId": "617f5f11-cb6b-4b41-fd9a-d367c8293b73"
      },
      "execution_count": null,
      "outputs": [
        {
          "output_type": "stream",
          "name": "stdout",
          "text": [
            "Silhouette Score: 0.795\n"
          ]
        }
      ]
    },
    {
      "cell_type": "code",
      "source": [
        "plt.figure(figsize=(8,6))\n",
        "sns.scatterplot(x=\"monetary_purchase_amt\",y=\"frequency_purchase\",hue=\"Cluster\",palette=\"Set2\",data=df,s=100)\n",
        "plt.title(\"Customer segmentation clusters\")\n",
        "plt.grid(True)\n",
        "plt.show()"
      ],
      "metadata": {
        "colab": {
          "base_uri": "https://localhost:8080/",
          "height": 564
        },
        "id": "EFKtYzXxqZFD",
        "outputId": "5a9d993f-d4dd-40c5-83d7-af617e30f66e"
      },
      "execution_count": null,
      "outputs": [
        {
          "output_type": "display_data",
          "data": {
            "text/plain": [
              "<Figure size 800x600 with 1 Axes>"
            ],
            "image/png": "[encoded data removed]"
          },
          "metadata": {}
        }
      ]
    },
    {
      "cell_type": "code",
      "source": [
        "#Cross validation\n"
      ],
      "metadata": {
        "id": "g2fHE3gHpbWu"
      },
      "execution_count": null,
      "outputs": []
    },
    {
      "cell_type": "code",
      "source": [],
      "metadata": {
        "id": "FGra07egpbZI"
      },
      "execution_count": null,
      "outputs": []
    }
  ]
}