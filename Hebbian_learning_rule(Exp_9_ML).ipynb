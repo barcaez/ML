{
  "nbformat": 4,
  "nbformat_minor": 0,
  "metadata": {
    "colab": {
      "provenance": []
    },
    "kernelspec": {
      "name": "python3",
      "display_name": "Python 3"
    },
    "language_info": {
      "name": "python"
    }
  },
  "cells": [
    {
      "cell_type": "code",
      "execution_count": null,
      "metadata": {
        "id": "DJYotTt2e7Ka"
      },
      "outputs": [],
      "source": [
        "import numpy as np"
      ]
    },
    {
      "cell_type": "code",
      "source": [
        "#Bipolar input for AND gate\n",
        "inputs=np.array([[-1,-1],[-1,1],[1,-1],[1,1]])"
      ],
      "metadata": {
        "id": "z6Rg25wIe8R9"
      },
      "execution_count": null,
      "outputs": []
    },
    {
      "cell_type": "code",
      "source": [
        "#Bipolar target values\n",
        "targets=np.array([-1,-1,-1,1])"
      ],
      "metadata": {
        "id": "nmkVg3NTe8T6"
      },
      "execution_count": null,
      "outputs": []
    },
    {
      "cell_type": "code",
      "source": [
        "weights=np.zeros(2)\n",
        "bias=0"
      ],
      "metadata": {
        "id": "b70djYCWe8Xr"
      },
      "execution_count": null,
      "outputs": []
    },
    {
      "cell_type": "code",
      "source": [
        "print(\"Initial weights\",weights)\n",
        "print(\"Initial bias\",bias)"
      ],
      "metadata": {
        "colab": {
          "base_uri": "https://localhost:8080/"
        },
        "id": "PNhUN-rlgMgu",
        "outputId": "79234f73-b298-44d9-8c44-ea9dbeb8b647"
      },
      "execution_count": null,
      "outputs": [
        {
          "output_type": "stream",
          "name": "stdout",
          "text": [
            "Initial weights [0. 0.]\n",
            "Initial bias 0\n"
          ]
        }
      ]
    },
    {
      "cell_type": "code",
      "source": [
        "#Hebbian learning rule\n",
        "for i in range(len(inputs)):\n",
        "  x=inputs[i]\n",
        "  y=targets[i]\n",
        "  weights+=x*y\n",
        "  bias+=y\n",
        "  print(\"\\n Trained weights\",weights)\n",
        "  print(\"\\n Trained bias\",bias)"
      ],
      "metadata": {
        "colab": {
          "base_uri": "https://localhost:8080/"
        },
        "id": "5Ut1_gpJgV9q",
        "outputId": "1d6d3585-71b5-4c8e-d692-e6ba0760e2b4"
      },
      "execution_count": null,
      "outputs": [
        {
          "output_type": "stream",
          "name": "stdout",
          "text": [
            "\n",
            " Trained weights [1. 1.]\n",
            "\n",
            " Trained bias -1\n",
            "\n",
            " Trained weights [2. 0.]\n",
            "\n",
            " Trained bias -2\n",
            "\n",
            " Trained weights [1. 1.]\n",
            "\n",
            " Trained bias -3\n",
            "\n",
            " Trained weights [2. 2.]\n",
            "\n",
            " Trained bias -2\n"
          ]
        }
      ]
    },
    {
      "cell_type": "code",
      "source": [
        "def predict(x):\n",
        "  net=np.dot(x,weights)+bias\n",
        "  if net>0:\n",
        "    return 1\n",
        "  else:\n",
        "    return -1"
      ],
      "metadata": {
        "id": "6Le4JOomgV_6"
      },
      "execution_count": null,
      "outputs": []
    },
    {
      "cell_type": "code",
      "source": [
        "#Testing model\n",
        "print(\"\\n Testing Hebbian model with AND truth table\")\n",
        "for i in range(len(inputs)):\n",
        "  pred=predict(inputs[i])\n",
        "  print(pred)"
      ],
      "metadata": {
        "colab": {
          "base_uri": "https://localhost:8080/"
        },
        "id": "smqhyd55gWB8",
        "outputId": "29e521d4-d3a1-4eca-eb0f-711d50e05061"
      },
      "execution_count": null,
      "outputs": [
        {
          "output_type": "stream",
          "name": "stdout",
          "text": [
            "\n",
            " Testing Hebbian model with AND truth table\n",
            "-1\n",
            "-1\n",
            "-1\n",
            "1\n"
          ]
        }
      ]
    },
    {
      "cell_type": "code",
      "source": [],
      "metadata": {
        "id": "07Vjiey9gMjK"
      },
      "execution_count": null,
      "outputs": []
    }
  ]
}